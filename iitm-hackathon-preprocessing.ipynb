{
 "cells": [
  {
   "cell_type": "code",
   "execution_count": 1,
   "id": "acoustic-infrared",
   "metadata": {
    "_cell_guid": "b1076dfc-b9ad-4769-8c92-a6c4dae69d19",
    "_uuid": "8f2839f25d086af736a60e9eeb907d3b93b6e0e5",
    "execution": {
     "iopub.execute_input": "2021-04-19T17:30:37.296717Z",
     "iopub.status.busy": "2021-04-19T17:30:37.296093Z",
     "iopub.status.idle": "2021-04-19T17:30:37.299846Z",
     "shell.execute_reply": "2021-04-19T17:30:37.299110Z"
    },
    "papermill": {
     "duration": 0.02656,
     "end_time": "2021-04-19T17:30:37.300012",
     "exception": false,
     "start_time": "2021-04-19T17:30:37.273452",
     "status": "completed"
    },
    "tags": []
   },
   "outputs": [],
   "source": [
    "import pandas as pd"
   ]
  },
  {
   "cell_type": "code",
   "execution_count": 2,
   "id": "possible-walker",
   "metadata": {
    "execution": {
     "iopub.execute_input": "2021-04-19T17:30:37.337754Z",
     "iopub.status.busy": "2021-04-19T17:30:37.337136Z",
     "iopub.status.idle": "2021-04-19T17:30:38.479212Z",
     "shell.execute_reply": "2021-04-19T17:30:38.479771Z"
    },
    "papermill": {
     "duration": 1.163394,
     "end_time": "2021-04-19T17:30:38.479957",
     "exception": false,
     "start_time": "2021-04-19T17:30:37.316563",
     "status": "completed"
    },
    "tags": []
   },
   "outputs": [],
   "source": [
    "raw_data = pd.read_csv(\"../input/cricket-t20/ipl_csv2/all_matches.csv\", low_memory = False)"
   ]
  },
  {
   "cell_type": "code",
   "execution_count": 3,
   "id": "saved-wings",
   "metadata": {
    "execution": {
     "iopub.execute_input": "2021-04-19T17:30:38.516718Z",
     "iopub.status.busy": "2021-04-19T17:30:38.515768Z",
     "iopub.status.idle": "2021-04-19T17:30:38.718143Z",
     "shell.execute_reply": "2021-04-19T17:30:38.718824Z"
    },
    "papermill": {
     "duration": 0.222141,
     "end_time": "2021-04-19T17:30:38.719010",
     "exception": false,
     "start_time": "2021-04-19T17:30:38.496869",
     "status": "completed"
    },
    "tags": []
   },
   "outputs": [
    {
     "name": "stdout",
     "output_type": "stream",
     "text": [
      "<class 'pandas.core.frame.DataFrame'>\n",
      "RangeIndex: 194354 entries, 0 to 194353\n",
      "Data columns (total 22 columns):\n",
      " #   Column                  Non-Null Count   Dtype  \n",
      "---  ------                  --------------   -----  \n",
      " 0   match_id                194354 non-null  int64  \n",
      " 1   season                  194354 non-null  object \n",
      " 2   start_date              194354 non-null  object \n",
      " 3   venue                   194354 non-null  object \n",
      " 4   innings                 194354 non-null  int64  \n",
      " 5   ball                    194354 non-null  float64\n",
      " 6   batting_team            194354 non-null  object \n",
      " 7   bowling_team            194354 non-null  object \n",
      " 8   striker                 194354 non-null  object \n",
      " 9   non_striker             194354 non-null  object \n",
      " 10  bowler                  194354 non-null  object \n",
      " 11  runs_off_bat            194354 non-null  int64  \n",
      " 12  extras                  194354 non-null  int64  \n",
      " 13  wides                   5884 non-null    float64\n",
      " 14  noballs                 774 non-null     float64\n",
      " 15  byes                    511 non-null     float64\n",
      " 16  legbyes                 3118 non-null    float64\n",
      " 17  penalty                 2 non-null       float64\n",
      " 18  wicket_type             9560 non-null    object \n",
      " 19  player_dismissed        9560 non-null    object \n",
      " 20  other_wicket_type       0 non-null       float64\n",
      " 21  other_player_dismissed  0 non-null       float64\n",
      "dtypes: float64(8), int64(4), object(10)\n",
      "memory usage: 32.6+ MB\n",
      "None\n"
     ]
    }
   ],
   "source": [
    "print(raw_data.info())"
   ]
  },
  {
   "cell_type": "code",
   "execution_count": 4,
   "id": "brown-delay",
   "metadata": {
    "execution": {
     "iopub.execute_input": "2021-04-19T17:30:38.773818Z",
     "iopub.status.busy": "2021-04-19T17:30:38.772795Z",
     "iopub.status.idle": "2021-04-19T17:30:38.825751Z",
     "shell.execute_reply": "2021-04-19T17:30:38.825215Z"
    },
    "papermill": {
     "duration": 0.087929,
     "end_time": "2021-04-19T17:30:38.825901",
     "exception": false,
     "start_time": "2021-04-19T17:30:38.737972",
     "status": "completed"
    },
    "tags": []
   },
   "outputs": [],
   "source": [
    "index_list = [i for i in range(0,194354)]\n",
    "raw_data.set_index(pd.Index(index_list), inplace = True)"
   ]
  },
  {
   "cell_type": "code",
   "execution_count": 5,
   "id": "applicable-attention",
   "metadata": {
    "execution": {
     "iopub.execute_input": "2021-04-19T17:30:38.866995Z",
     "iopub.status.busy": "2021-04-19T17:30:38.865794Z",
     "iopub.status.idle": "2021-04-19T17:30:38.883489Z",
     "shell.execute_reply": "2021-04-19T17:30:38.882904Z"
    },
    "papermill": {
     "duration": 0.040888,
     "end_time": "2021-04-19T17:30:38.883657",
     "exception": false,
     "start_time": "2021-04-19T17:30:38.842769",
     "status": "completed"
    },
    "tags": []
   },
   "outputs": [],
   "source": [
    "raw_data.drop([\"match_id\", \"start_date\", \"non_striker\", \"wides\", \"noballs\", \"byes\", \"legbyes\", \"penalty\", \"wicket_type\", \"player_dismissed\", \"other_wicket_type\", \"other_player_dismissed\"], axis = 1, inplace = True)"
   ]
  },
  {
   "cell_type": "code",
   "execution_count": 6,
   "id": "binding-honey",
   "metadata": {
    "execution": {
     "iopub.execute_input": "2021-04-19T17:30:38.924387Z",
     "iopub.status.busy": "2021-04-19T17:30:38.923524Z",
     "iopub.status.idle": "2021-04-19T17:30:39.001568Z",
     "shell.execute_reply": "2021-04-19T17:30:39.002345Z"
    },
    "papermill": {
     "duration": 0.101395,
     "end_time": "2021-04-19T17:30:39.002530",
     "exception": false,
     "start_time": "2021-04-19T17:30:38.901135",
     "status": "completed"
    },
    "tags": []
   },
   "outputs": [
    {
     "name": "stdout",
     "output_type": "stream",
     "text": [
      "<class 'pandas.core.frame.DataFrame'>\n",
      "Int64Index: 61158 entries, 0 to 194264\n",
      "Data columns (total 10 columns):\n",
      " #   Column        Non-Null Count  Dtype  \n",
      "---  ------        --------------  -----  \n",
      " 0   season        61158 non-null  object \n",
      " 1   venue         61158 non-null  object \n",
      " 2   innings       61158 non-null  int64  \n",
      " 3   ball          61158 non-null  float64\n",
      " 4   batting_team  61158 non-null  object \n",
      " 5   bowling_team  61158 non-null  object \n",
      " 6   striker       61158 non-null  object \n",
      " 7   bowler        61158 non-null  object \n",
      " 8   runs_off_bat  61158 non-null  int64  \n",
      " 9   extras        61158 non-null  int64  \n",
      "dtypes: float64(1), int64(3), object(6)\n",
      "memory usage: 5.1+ MB\n",
      "None\n"
     ]
    }
   ],
   "source": [
    "raw_data = raw_data.loc[(raw_data.ball < 6.0) & (raw_data.innings < 3)]\n",
    "print(raw_data.info())"
   ]
  },
  {
   "cell_type": "code",
   "execution_count": 7,
   "id": "direct-hollow",
   "metadata": {
    "execution": {
     "iopub.execute_input": "2021-04-19T17:30:39.043654Z",
     "iopub.status.busy": "2021-04-19T17:30:39.042985Z",
     "iopub.status.idle": "2021-04-19T17:30:39.053934Z",
     "shell.execute_reply": "2021-04-19T17:30:39.054701Z"
    },
    "papermill": {
     "duration": 0.03357,
     "end_time": "2021-04-19T17:30:39.054897",
     "exception": false,
     "start_time": "2021-04-19T17:30:39.021327",
     "status": "completed"
    },
    "tags": []
   },
   "outputs": [
    {
     "name": "stdout",
     "output_type": "stream",
     "text": [
      "['M Chinnaswamy Stadium' 'Punjab Cricket Association Stadium, Mohali'\n",
      " 'Feroz Shah Kotla' 'Eden Gardens' 'Wankhede Stadium'\n",
      " 'Sawai Mansingh Stadium' 'Rajiv Gandhi International Stadium, Uppal'\n",
      " 'MA Chidambaram Stadium, Chepauk' 'Dr DY Patil Sports Academy' 'Newlands'\n",
      " \"St George's Park\" 'Kingsmead' 'SuperSport Park' 'Buffalo Park'\n",
      " 'New Wanderers Stadium' 'De Beers Diamond Oval' 'OUTsurance Oval'\n",
      " 'Brabourne Stadium' 'Sardar Patel Stadium, Motera' 'Barabati Stadium'\n",
      " 'Vidarbha Cricket Association Stadium, Jamtha'\n",
      " 'Himachal Pradesh Cricket Association Stadium' 'Nehru Stadium'\n",
      " 'Holkar Cricket Stadium'\n",
      " 'Dr. Y.S. Rajasekhara Reddy ACA-VDCA Cricket Stadium'\n",
      " 'Subrata Roy Sahara Stadium'\n",
      " 'Shaheed Veer Narayan Singh International Stadium'\n",
      " 'JSCA International Stadium Complex' 'Sheikh Zayed Stadium'\n",
      " 'Sharjah Cricket Stadium' 'Dubai International Cricket Stadium'\n",
      " 'Maharashtra Cricket Association Stadium'\n",
      " 'Punjab Cricket Association IS Bindra Stadium, Mohali'\n",
      " 'Saurashtra Cricket Association Stadium' 'Green Park'\n",
      " 'M.Chinnaswamy Stadium' 'MA Chidambaram Stadium' 'Arun Jaitley Stadium'\n",
      " 'Rajiv Gandhi International Stadium'\n",
      " 'Punjab Cricket Association IS Bindra Stadium'\n",
      " 'MA Chidambaram Stadium, Chepauk, Chennai' 'Wankhede Stadium, Mumbai']\n"
     ]
    }
   ],
   "source": [
    "print(raw_data.venue.unique())"
   ]
  },
  {
   "cell_type": "code",
   "execution_count": 8,
   "id": "controversial-lexington",
   "metadata": {
    "execution": {
     "iopub.execute_input": "2021-04-19T17:30:39.097183Z",
     "iopub.status.busy": "2021-04-19T17:30:39.096538Z",
     "iopub.status.idle": "2021-04-19T17:30:39.219547Z",
     "shell.execute_reply": "2021-04-19T17:30:39.220022Z"
    },
    "papermill": {
     "duration": 0.145277,
     "end_time": "2021-04-19T17:30:39.220265",
     "exception": false,
     "start_time": "2021-04-19T17:30:39.074988",
     "status": "completed"
    },
    "tags": []
   },
   "outputs": [],
   "source": [
    "drop_index_stadiums = raw_data[~((raw_data.venue==\"Eden Gardens\")|(raw_data.venue==\"Sardar Patel Stadium, Motera\")|(raw_data.venue==\"Sharjah Cricket Stadium\")|(raw_data.venue==\"Dubai International Cricket Stadium\")|\n",
    "                    (raw_data.venue==\"M Chinnaswamy Stadium\")|(raw_data.venue==\"M.Chinnaswamy Stadium\")|(raw_data.venue==\"MA Chidambaram Stadium, Chepauk\")|(raw_data.venue==\"MA Chidambaram Stadium\")|\n",
    "                    (raw_data.venue==\"MA Chidambaram Stadium, Chepauk, Chennai\")|(raw_data.venue==\"Wankhede Stadium\")|(raw_data.venue==\"Wankhede Stadium, Mumbai\")|(raw_data.venue==\"Arun Jaitley Stadium\")|(raw_data.venue==\"Feroz Shah Kotla\"))].index"
   ]
  },
  {
   "cell_type": "code",
   "execution_count": 9,
   "id": "foreign-leonard",
   "metadata": {
    "execution": {
     "iopub.execute_input": "2021-04-19T17:30:39.269957Z",
     "iopub.status.busy": "2021-04-19T17:30:39.268994Z",
     "iopub.status.idle": "2021-04-19T17:30:39.294023Z",
     "shell.execute_reply": "2021-04-19T17:30:39.293437Z"
    },
    "papermill": {
     "duration": 0.054816,
     "end_time": "2021-04-19T17:30:39.294189",
     "exception": false,
     "start_time": "2021-04-19T17:30:39.239373",
     "status": "completed"
    },
    "tags": []
   },
   "outputs": [],
   "source": [
    "raw_data.drop(drop_index_stadiums, inplace=True)"
   ]
  },
  {
   "cell_type": "code",
   "execution_count": 10,
   "id": "finished-supervision",
   "metadata": {
    "execution": {
     "iopub.execute_input": "2021-04-19T17:30:39.356466Z",
     "iopub.status.busy": "2021-04-19T17:30:39.355676Z",
     "iopub.status.idle": "2021-04-19T17:30:39.381749Z",
     "shell.execute_reply": "2021-04-19T17:30:39.382291Z"
    },
    "papermill": {
     "duration": 0.069976,
     "end_time": "2021-04-19T17:30:39.382475",
     "exception": false,
     "start_time": "2021-04-19T17:30:39.312499",
     "status": "completed"
    },
    "tags": []
   },
   "outputs": [
    {
     "name": "stdout",
     "output_type": "stream",
     "text": [
      "<class 'pandas.core.frame.DataFrame'>\n",
      "Int64Index: 31791 entries, 0 to 194264\n",
      "Data columns (total 10 columns):\n",
      " #   Column        Non-Null Count  Dtype  \n",
      "---  ------        --------------  -----  \n",
      " 0   season        31791 non-null  object \n",
      " 1   venue         31791 non-null  object \n",
      " 2   innings       31791 non-null  int64  \n",
      " 3   ball          31791 non-null  float64\n",
      " 4   batting_team  31791 non-null  object \n",
      " 5   bowling_team  31791 non-null  object \n",
      " 6   striker       31791 non-null  object \n",
      " 7   bowler        31791 non-null  object \n",
      " 8   runs_off_bat  31791 non-null  int64  \n",
      " 9   extras        31791 non-null  int64  \n",
      "dtypes: float64(1), int64(3), object(6)\n",
      "memory usage: 2.7+ MB\n",
      "None\n"
     ]
    }
   ],
   "source": [
    "print(raw_data.info())\n",
    "index_list = [i for i in range(0,31791)]\n",
    "raw_data.set_index(pd.Index(index_list), inplace = True)"
   ]
  },
  {
   "cell_type": "code",
   "execution_count": 11,
   "id": "talented-lancaster",
   "metadata": {
    "execution": {
     "iopub.execute_input": "2021-04-19T17:30:39.428312Z",
     "iopub.status.busy": "2021-04-19T17:30:39.427283Z",
     "iopub.status.idle": "2021-04-19T17:30:39.464224Z",
     "shell.execute_reply": "2021-04-19T17:30:39.463296Z"
    },
    "papermill": {
     "duration": 0.062956,
     "end_time": "2021-04-19T17:30:39.464415",
     "exception": false,
     "start_time": "2021-04-19T17:30:39.401459",
     "status": "completed"
    },
    "tags": []
   },
   "outputs": [
    {
     "name": "stdout",
     "output_type": "stream",
     "text": [
      "['M Chinnaswamy Stadium' 'Feroz Shah Kotla' 'Eden Gardens'\n",
      " 'Wankhede Stadium' 'MA Chidambaram Stadium, Chepauk'\n",
      " 'Sardar Patel Stadium, Motera' 'Sharjah Cricket Stadium'\n",
      " 'Dubai International Cricket Stadium' 'M.Chinnaswamy Stadium'\n",
      " 'MA Chidambaram Stadium' 'Arun Jaitley Stadium'\n",
      " 'MA Chidambaram Stadium, Chepauk, Chennai' 'Wankhede Stadium, Mumbai']\n",
      "(31791, 10)\n",
      "<class 'pandas.core.frame.DataFrame'>\n",
      "Int64Index: 31791 entries, 0 to 31790\n",
      "Data columns (total 10 columns):\n",
      " #   Column        Non-Null Count  Dtype  \n",
      "---  ------        --------------  -----  \n",
      " 0   season        31791 non-null  object \n",
      " 1   venue         31791 non-null  object \n",
      " 2   innings       31791 non-null  int64  \n",
      " 3   ball          31791 non-null  float64\n",
      " 4   batting_team  31791 non-null  object \n",
      " 5   bowling_team  31791 non-null  object \n",
      " 6   striker       31791 non-null  object \n",
      " 7   bowler        31791 non-null  object \n",
      " 8   runs_off_bat  31791 non-null  int64  \n",
      " 9   extras        31791 non-null  int64  \n",
      "dtypes: float64(1), int64(3), object(6)\n",
      "memory usage: 2.7+ MB\n",
      "None\n",
      "1\n"
     ]
    }
   ],
   "source": [
    "print(raw_data.venue.unique())\n",
    "print(raw_data.shape)\n",
    "print(raw_data.info())\n",
    "print(raw_data[\"runs_off_bat\"][0]+raw_data[\"extras\"][0])"
   ]
  },
  {
   "cell_type": "code",
   "execution_count": 12,
   "id": "acting-expert",
   "metadata": {
    "execution": {
     "iopub.execute_input": "2021-04-19T17:30:39.548489Z",
     "iopub.status.busy": "2021-04-19T17:30:39.522789Z",
     "iopub.status.idle": "2021-04-19T17:30:42.713874Z",
     "shell.execute_reply": "2021-04-19T17:30:42.714438Z"
    },
    "papermill": {
     "duration": 3.230002,
     "end_time": "2021-04-19T17:30:42.714639",
     "exception": false,
     "start_time": "2021-04-19T17:30:39.484637",
     "status": "completed"
    },
    "tags": []
   },
   "outputs": [],
   "source": [
    "total_array = []\n",
    "total = 0\n",
    "for i in range(0, 31791):\n",
    "    runs_off_ball = raw_data.iloc[i, 8] + raw_data.iloc[i, 9]\n",
    "    total+=runs_off_ball\n",
    "    try:\n",
    "        if raw_data.iloc[i+1, 3]==0.1:\n",
    "            runs_off_ball = raw_data.iloc[i, 8] + raw_data.iloc[i, 9]\n",
    "            total+=runs_off_ball\n",
    "            total_array.append(total)\n",
    "            total = 0\n",
    "    except IndexError:\n",
    "        break\n",
    "\n",
    "# manually add last match total runs\n",
    "total_array.append(35)"
   ]
  },
  {
   "cell_type": "code",
   "execution_count": 13,
   "id": "twelve-refrigerator",
   "metadata": {
    "execution": {
     "iopub.execute_input": "2021-04-19T17:30:42.756951Z",
     "iopub.status.busy": "2021-04-19T17:30:42.756325Z",
     "iopub.status.idle": "2021-04-19T17:30:46.118218Z",
     "shell.execute_reply": "2021-04-19T17:30:46.118734Z"
    },
    "papermill": {
     "duration": 3.384643,
     "end_time": "2021-04-19T17:30:46.118929",
     "exception": false,
     "start_time": "2021-04-19T17:30:42.734286",
     "status": "completed"
    },
    "tags": []
   },
   "outputs": [],
   "source": [
    "wickets_array = []\n",
    "batsmen_array = []\n",
    "n_bowlers_array = []\n",
    "bowlers_array = []\n",
    "for i in range(0, 31791):\n",
    "    if raw_data.iloc[i, 6] not in batsmen_array:\n",
    "        batsmen_array.append(raw_data.iloc[i, 6])\n",
    "    if raw_data.iloc[i, 7] not in bowlers_array:\n",
    "        bowlers_array.append(raw_data.iloc[i, 7])\n",
    "    try:    \n",
    "        if raw_data.iloc[i+1, 3]==0.1:\n",
    "            if raw_data.iloc[i, 6] not in batsmen_array:\n",
    "                batsmen_array.append(raw_data.iloc[i, 6])\n",
    "            if raw_data.iloc[i, 7] not in bowlers_array:\n",
    "                bowlers_array.append(raw_data.iloc[i, 7])\n",
    "            wickets_array.append(len(batsmen_array)-2)\n",
    "            n_bowlers_array.append(len(bowlers_array))\n",
    "            batsmen_array = []\n",
    "            bowlers_array = []\n",
    "    except IndexError:\n",
    "        break\n",
    "        \n",
    "# manually add last match wickets\n",
    "wickets_array.append(2)\n",
    "# manually add last match wickets\n",
    "n_bowlers_array.append(4)"
   ]
  },
  {
   "cell_type": "code",
   "execution_count": 14,
   "id": "limited-essence",
   "metadata": {
    "execution": {
     "iopub.execute_input": "2021-04-19T17:30:46.162334Z",
     "iopub.status.busy": "2021-04-19T17:30:46.161682Z",
     "iopub.status.idle": "2021-04-19T17:30:46.177564Z",
     "shell.execute_reply": "2021-04-19T17:30:46.178022Z"
    },
    "papermill": {
     "duration": 0.039242,
     "end_time": "2021-04-19T17:30:46.178224",
     "exception": false,
     "start_time": "2021-04-19T17:30:46.138982",
     "status": "completed"
    },
    "tags": []
   },
   "outputs": [
    {
     "name": "stdout",
     "output_type": "stream",
     "text": [
      "852\n"
     ]
    }
   ],
   "source": [
    "print(len(n_bowlers_array))\n",
    "raw_data = raw_data[raw_data[\"ball\"]==0.1]\n",
    "raw_data.drop([\"ball\", \"striker\", \"bowler\", \"runs_off_bat\", \"extras\"], inplace = True, axis = 1)\n",
    "index_list = [i for i in range(0,852)]\n",
    "raw_data.set_index(pd.Index(index_list), inplace = True)\n",
    "total_runs_df = pd.DataFrame({\"total_runs\": total_array}, index = raw_data.index)\n",
    "total_wickets_df = pd.DataFrame({\"n_wickets\": wickets_array}, index = raw_data.index)\n",
    "total_bowlers_df = pd.DataFrame({\"n_bowlers\": n_bowlers_array}, index = raw_data.index)\n",
    "total_wickets_bowlers_runs_preprocessed_df = pd.concat([raw_data, total_wickets_df, total_bowlers_df, total_runs_df], axis = 1)"
   ]
  },
  {
   "cell_type": "code",
   "execution_count": 15,
   "id": "accompanied-communication",
   "metadata": {
    "execution": {
     "iopub.execute_input": "2021-04-19T17:30:46.222185Z",
     "iopub.status.busy": "2021-04-19T17:30:46.221226Z",
     "iopub.status.idle": "2021-04-19T17:30:46.233822Z",
     "shell.execute_reply": "2021-04-19T17:30:46.234301Z"
    },
    "papermill": {
     "duration": 0.03622,
     "end_time": "2021-04-19T17:30:46.234484",
     "exception": false,
     "start_time": "2021-04-19T17:30:46.198264",
     "status": "completed"
    },
    "tags": []
   },
   "outputs": [],
   "source": [
    "venue_pp_avg = {\n",
    "    \"Eden Gardens\": 46.32,\n",
    "    \"Sardar Patel Stadium, Motera\": 47.34,\n",
    "    \"Sharjah Cricket Stadium\": 44.34,\n",
    "    \"Dubai International Cricket Stadium\": 41.82,\n",
    "    \"M Chinnaswamy Stadium\": 46.35, \n",
    "    \"M.Chinnaswamy Stadium\": 46.35,\n",
    "    \"MA Chidambaram Stadium, Chepauk\": 44.50,\n",
    "    \"MA Chidambaram Stadium\": 44.50,\n",
    "    \"MA Chidambaram Stadium, Chepauk, Chennai\": 44.50,\n",
    "    \"Wankhede Stadium\": 44.17,\n",
    "    \"Wankhede Stadium, Mumbai\": 44.17,\n",
    "    \"Arun Jaitley Stadium\": 47.88,\n",
    "    \"Feroz Shah Kotla\": 47.88\n",
    "    }\n",
    "\n",
    "total_wickets_bowlers_runs_preprocessed_df[\"venue\"] = total_wickets_bowlers_runs_preprocessed_df[\"venue\"].replace([\"Eden Gardens\",\"Sardar Patel Stadium, Motera\", \"Sharjah Cricket Stadium\",\n",
    "    \"Dubai International Cricket Stadium\", \"M Chinnaswamy Stadium\", \"M.Chinnaswamy Stadium\", \"MA Chidambaram Stadium, Chepauk\", \"MA Chidambaram Stadium\",\n",
    "    \"MA Chidambaram Stadium, Chepauk, Chennai\", \"Wankhede Stadium\", \"Wankhede Stadium, Mumbai\", \"Arun Jaitley Stadium\", \"Feroz Shah Kotla\"], [46.32, 47.34, 44.34, 41.82, 46.35, 46.35,\n",
    "    44.50, 44.50, 44.50, 44.17, 44.17, 47.88, 47.88])\n",
    "total_wickets_bowlers_runs_preprocessed_df = total_wickets_bowlers_runs_preprocessed_df[(total_wickets_bowlers_runs_preprocessed_df[\"total_runs\"]>10) & (total_wickets_bowlers_runs_preprocessed_df[\"total_runs\"]<75)]\n",
    "total_wickets_bowlers_runs_venues_preprocessed_df = total_wickets_bowlers_runs_preprocessed_df"
   ]
  },
  {
   "cell_type": "code",
   "execution_count": 16,
   "id": "surprised-northeast",
   "metadata": {
    "execution": {
     "iopub.execute_input": "2021-04-19T17:30:46.278485Z",
     "iopub.status.busy": "2021-04-19T17:30:46.277519Z",
     "iopub.status.idle": "2021-04-19T17:30:46.297232Z",
     "shell.execute_reply": "2021-04-19T17:30:46.297724Z"
    },
    "papermill": {
     "duration": 0.043432,
     "end_time": "2021-04-19T17:30:46.297908",
     "exception": false,
     "start_time": "2021-04-19T17:30:46.254476",
     "status": "completed"
    },
    "tags": []
   },
   "outputs": [],
   "source": [
    "preprocessed1_df = pd.read_csv(\"../input/wick-bowl-bat-run-venue-preprocessed/total_wickets_bowlers_runs_venues_battingTeam_bowlingTeam_preprocessed_df.csv\")"
   ]
  },
  {
   "cell_type": "code",
   "execution_count": 17,
   "id": "experienced-council",
   "metadata": {
    "execution": {
     "iopub.execute_input": "2021-04-19T17:30:46.342726Z",
     "iopub.status.busy": "2021-04-19T17:30:46.341746Z",
     "iopub.status.idle": "2021-04-19T17:30:46.357174Z",
     "shell.execute_reply": "2021-04-19T17:30:46.358030Z"
    },
    "papermill": {
     "duration": 0.039836,
     "end_time": "2021-04-19T17:30:46.358312",
     "exception": false,
     "start_time": "2021-04-19T17:30:46.318476",
     "status": "completed"
    },
    "tags": []
   },
   "outputs": [
    {
     "name": "stdout",
     "output_type": "stream",
     "text": [
      "<class 'pandas.core.frame.DataFrame'>\n",
      "RangeIndex: 852 entries, 0 to 851\n",
      "Data columns (total 9 columns):\n",
      " #   Column        Non-Null Count  Dtype  \n",
      "---  ------        --------------  -----  \n",
      " 0   Unnamed: 0    852 non-null    int64  \n",
      " 1   season        852 non-null    object \n",
      " 2   venue         852 non-null    float64\n",
      " 3   innings       852 non-null    int64  \n",
      " 4   batting_team  852 non-null    float64\n",
      " 5   bowling_team  852 non-null    float64\n",
      " 6   n_wickets     852 non-null    int64  \n",
      " 7   n_bowlers     852 non-null    int64  \n",
      " 8   total_runs    852 non-null    int64  \n",
      "dtypes: float64(3), int64(5), object(1)\n",
      "memory usage: 60.0+ KB\n",
      "None\n"
     ]
    }
   ],
   "source": [
    "print(preprocessed1_df.info())"
   ]
  },
  {
   "cell_type": "code",
   "execution_count": 18,
   "id": "stuck-calgary",
   "metadata": {
    "execution": {
     "iopub.execute_input": "2021-04-19T17:30:46.406228Z",
     "iopub.status.busy": "2021-04-19T17:30:46.405242Z",
     "iopub.status.idle": "2021-04-19T17:30:46.411589Z",
     "shell.execute_reply": "2021-04-19T17:30:46.410945Z"
    },
    "papermill": {
     "duration": 0.029945,
     "end_time": "2021-04-19T17:30:46.411723",
     "exception": false,
     "start_time": "2021-04-19T17:30:46.381778",
     "status": "completed"
    },
    "tags": []
   },
   "outputs": [],
   "source": [
    "preprocessed1_df.drop([\"season\"], inplace =True, axis = 1)"
   ]
  },
  {
   "cell_type": "code",
   "execution_count": 19,
   "id": "statistical-chambers",
   "metadata": {
    "execution": {
     "iopub.execute_input": "2021-04-19T17:30:46.468389Z",
     "iopub.status.busy": "2021-04-19T17:30:46.467691Z",
     "iopub.status.idle": "2021-04-19T17:30:46.471780Z",
     "shell.execute_reply": "2021-04-19T17:30:46.472464Z"
    },
    "papermill": {
     "duration": 0.040201,
     "end_time": "2021-04-19T17:30:46.472693",
     "exception": false,
     "start_time": "2021-04-19T17:30:46.432492",
     "status": "completed"
    },
    "tags": []
   },
   "outputs": [
    {
     "name": "stdout",
     "output_type": "stream",
     "text": [
      "<class 'pandas.core.frame.DataFrame'>\n",
      "RangeIndex: 852 entries, 0 to 851\n",
      "Data columns (total 8 columns):\n",
      " #   Column        Non-Null Count  Dtype  \n",
      "---  ------        --------------  -----  \n",
      " 0   Unnamed: 0    852 non-null    int64  \n",
      " 1   venue         852 non-null    float64\n",
      " 2   innings       852 non-null    int64  \n",
      " 3   batting_team  852 non-null    float64\n",
      " 4   bowling_team  852 non-null    float64\n",
      " 5   n_wickets     852 non-null    int64  \n",
      " 6   n_bowlers     852 non-null    int64  \n",
      " 7   total_runs    852 non-null    int64  \n",
      "dtypes: float64(3), int64(5)\n",
      "memory usage: 53.4 KB\n",
      "None\n"
     ]
    }
   ],
   "source": [
    "print(preprocessed1_df.info())"
   ]
  },
  {
   "cell_type": "code",
   "execution_count": 20,
   "id": "faced-nitrogen",
   "metadata": {
    "execution": {
     "iopub.execute_input": "2021-04-19T17:30:46.519634Z",
     "iopub.status.busy": "2021-04-19T17:30:46.518695Z",
     "iopub.status.idle": "2021-04-19T17:30:46.523798Z",
     "shell.execute_reply": "2021-04-19T17:30:46.524255Z"
    },
    "papermill": {
     "duration": 0.0298,
     "end_time": "2021-04-19T17:30:46.524425",
     "exception": false,
     "start_time": "2021-04-19T17:30:46.494625",
     "status": "completed"
    },
    "tags": []
   },
   "outputs": [],
   "source": [
    "# one hot encoding innings\n",
    "\n",
    "preprocessed1_df[\"innings\"] = preprocessed1_df.loc[:, \"innings\"].replace({1: 0, 2: 1})"
   ]
  },
  {
   "cell_type": "code",
   "execution_count": 21,
   "id": "african-train",
   "metadata": {
    "execution": {
     "iopub.execute_input": "2021-04-19T17:30:46.571578Z",
     "iopub.status.busy": "2021-04-19T17:30:46.570636Z",
     "iopub.status.idle": "2021-04-19T17:30:46.576669Z",
     "shell.execute_reply": "2021-04-19T17:30:46.577130Z"
    },
    "papermill": {
     "duration": 0.031292,
     "end_time": "2021-04-19T17:30:46.577304",
     "exception": false,
     "start_time": "2021-04-19T17:30:46.546012",
     "status": "completed"
    },
    "tags": []
   },
   "outputs": [],
   "source": [
    "venue_max = max(preprocessed1_df[\"venue\"])\n",
    "batting_team_max = max(preprocessed1_df[\"batting_team\"])\n",
    "bowling_team_max = max(preprocessed1_df[\"bowling_team\"])\n",
    "n_wickets_max = max(preprocessed1_df[\"n_wickets\"])\n",
    "n_bowlers_max = max(preprocessed1_df[\"n_bowlers\"])"
   ]
  },
  {
   "cell_type": "code",
   "execution_count": 22,
   "id": "overhead-stations",
   "metadata": {
    "execution": {
     "iopub.execute_input": "2021-04-19T17:30:46.623828Z",
     "iopub.status.busy": "2021-04-19T17:30:46.622873Z",
     "iopub.status.idle": "2021-04-19T17:30:46.662311Z",
     "shell.execute_reply": "2021-04-19T17:30:46.662819Z"
    },
    "papermill": {
     "duration": 0.064426,
     "end_time": "2021-04-19T17:30:46.663007",
     "exception": false,
     "start_time": "2021-04-19T17:30:46.598581",
     "status": "completed"
    },
    "tags": []
   },
   "outputs": [
    {
     "name": "stdout",
     "output_type": "stream",
     "text": [
      "       Unnamed: 0       venue     innings  batting_team  bowling_team  \\\n",
      "count   852.00000  852.000000  852.000000    852.000000    852.000000   \n",
      "mean    425.50000    0.951664    0.498826      0.777028      0.761249   \n",
      "std     246.09551    0.035443    0.500292      0.078913      0.072504   \n",
      "min       0.00000    0.873434    0.000000      0.618464      0.533280   \n",
      "25%     212.75000    0.922515    0.000000      0.722386      0.714560   \n",
      "50%     425.50000    0.967419    0.000000      0.777778      0.760608   \n",
      "75%     638.25000    0.968045    1.000000      0.830556      0.798800   \n",
      "max     851.00000    1.000000    1.000000      1.000000      1.000000   \n",
      "\n",
      "        n_wickets   n_bowlers  total_runs  \n",
      "count  852.000000  852.000000  852.000000  \n",
      "mean     0.227700    0.589789   47.589202  \n",
      "std      0.185637    0.117048   12.240741  \n",
      "min      0.000000    0.333333    2.000000  \n",
      "25%      0.166667    0.500000   39.000000  \n",
      "50%      0.166667    0.666667   47.000000  \n",
      "75%      0.333333    0.666667   55.000000  \n",
      "max      1.000000    1.000000  111.000000  \n"
     ]
    }
   ],
   "source": [
    "# Normalising data\n",
    "\n",
    "preprocessed1_df[\"venue\"] = preprocessed1_df[\"venue\"]/venue_max\n",
    "preprocessed1_df[\"batting_team\"] = preprocessed1_df[\"batting_team\"]/batting_team_max\n",
    "preprocessed1_df[\"bowling_team\"] = preprocessed1_df[\"bowling_team\"]/bowling_team_max\n",
    "preprocessed1_df[\"n_wickets\"] = preprocessed1_df[\"n_wickets\"]/n_wickets_max\n",
    "preprocessed1_df[\"n_bowlers\"] = preprocessed1_df[\"n_bowlers\"]/n_bowlers_max\n",
    "print(preprocessed1_df.describe())"
   ]
  },
  {
   "cell_type": "code",
   "execution_count": 23,
   "id": "insured-opinion",
   "metadata": {
    "execution": {
     "iopub.execute_input": "2021-04-19T17:30:46.712242Z",
     "iopub.status.busy": "2021-04-19T17:30:46.711517Z",
     "iopub.status.idle": "2021-04-19T17:30:46.726469Z",
     "shell.execute_reply": "2021-04-19T17:30:46.725806Z"
    },
    "papermill": {
     "duration": 0.041679,
     "end_time": "2021-04-19T17:30:46.726669",
     "exception": false,
     "start_time": "2021-04-19T17:30:46.684990",
     "status": "completed"
    },
    "tags": []
   },
   "outputs": [],
   "source": [
    "preprocess2_df = preprocessed1_df\n",
    "preprocess_completed = pd.read_csv(\"../input/preprocess-completed/preprocess_completed.csv\")"
   ]
  }
 ],
 "metadata": {
  "kernelspec": {
   "display_name": "Python 3",
   "language": "python",
   "name": "python3"
  },
  "language_info": {
   "codemirror_mode": {
    "name": "ipython",
    "version": 3
   },
   "file_extension": ".py",
   "mimetype": "text/x-python",
   "name": "python",
   "nbconvert_exporter": "python",
   "pygments_lexer": "ipython3",
   "version": "3.7.9"
  },
  "papermill": {
   "default_parameters": {},
   "duration": 16.146994,
   "end_time": "2021-04-19T17:30:47.358433",
   "environment_variables": {},
   "exception": null,
   "input_path": "__notebook__.ipynb",
   "output_path": "__notebook__.ipynb",
   "parameters": {},
   "start_time": "2021-04-19T17:30:31.211439",
   "version": "2.3.2"
  }
 },
 "nbformat": 4,
 "nbformat_minor": 5
}
