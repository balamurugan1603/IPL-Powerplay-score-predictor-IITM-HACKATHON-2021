{
 "cells": [
  {
   "cell_type": "code",
   "execution_count": 1,
   "id": "subtle-massachusetts",
   "metadata": {
    "_cell_guid": "b1076dfc-b9ad-4769-8c92-a6c4dae69d19",
    "_uuid": "8f2839f25d086af736a60e9eeb907d3b93b6e0e5",
    "execution": {
     "iopub.execute_input": "2021-04-20T17:30:22.599486Z",
     "iopub.status.busy": "2021-04-20T17:30:22.597912Z",
     "iopub.status.idle": "2021-04-20T17:30:32.393427Z",
     "shell.execute_reply": "2021-04-20T17:30:32.393940Z"
    },
    "papermill": {
     "duration": 9.812615,
     "end_time": "2021-04-20T17:30:32.394247",
     "exception": false,
     "start_time": "2021-04-20T17:30:22.581632",
     "status": "completed"
    },
    "tags": []
   },
   "outputs": [],
   "source": [
    "import pandas as pd\n",
    "import tensorflow as tf\n",
    "from tensorflow.keras.models import Sequential\n",
    "from tensorflow.keras.layers import Dense, LeakyReLU, BatchNormalization\n",
    "from keras.wrappers.scikit_learn import KerasClassifier\n",
    "from keras.layers import Dropout\n",
    "from keras.callbacks import EarlyStopping\n",
    "from sklearn.model_selection import train_test_split\n",
    "from tensorflow.keras.constraints import max_norm\n",
    "from keras.optimizers import Adam, SGD, Adadelta, Nadam, Adagrad, RMSprop, Ftrl\n",
    "from tensorflow.keras.models import save_model\n"
   ]
  },
  {
   "cell_type": "code",
   "execution_count": 2,
   "id": "blind-caribbean",
   "metadata": {
    "execution": {
     "iopub.execute_input": "2021-04-20T17:30:32.417139Z",
     "iopub.status.busy": "2021-04-20T17:30:32.416545Z",
     "iopub.status.idle": "2021-04-20T17:30:32.437654Z",
     "shell.execute_reply": "2021-04-20T17:30:32.436860Z"
    },
    "papermill": {
     "duration": 0.034937,
     "end_time": "2021-04-20T17:30:32.437863",
     "exception": false,
     "start_time": "2021-04-20T17:30:32.402926",
     "status": "completed"
    },
    "tags": []
   },
   "outputs": [],
   "source": [
    "data = pd.read_csv(\"../input/preprocess-completed/preprocess_completed.csv\")"
   ]
  },
  {
   "cell_type": "code",
   "execution_count": 3,
   "id": "olive-reggae",
   "metadata": {
    "execution": {
     "iopub.execute_input": "2021-04-20T17:30:32.477030Z",
     "iopub.status.busy": "2021-04-20T17:30:32.470986Z",
     "iopub.status.idle": "2021-04-20T17:30:32.483034Z",
     "shell.execute_reply": "2021-04-20T17:30:32.482125Z"
    },
    "papermill": {
     "duration": 0.03353,
     "end_time": "2021-04-20T17:30:32.483209",
     "exception": false,
     "start_time": "2021-04-20T17:30:32.449679",
     "status": "completed"
    },
    "tags": []
   },
   "outputs": [],
   "source": [
    "def create_model_combined(dropout_rate=0.2, activation=\"tanh\", init_mode='uniform', weight_constraint=2.98, learn_rate=0.00006, momentum=0.27):\n",
    "    model = Sequential()\n",
    "    model.add(Dense(12, activation = activation, input_dim = 6, kernel_initializer=init_mode, kernel_constraint=max_norm(weight_constraint)))\n",
    "    model.add(Dropout(dropout_rate))\n",
    "    model.add(BatchNormalization())\n",
    "    model.add(Dense(12, activation = activation, kernel_initializer=init_mode,kernel_constraint=max_norm(weight_constraint)))\n",
    "    model.add(Dropout(dropout_rate))\n",
    "    model.add(BatchNormalization())\n",
    "    model.add(Dense(12, activation = activation, kernel_initializer=init_mode,kernel_constraint=max_norm(weight_constraint)))\n",
    "    model.add(Dropout(dropout_rate))\n",
    "    model.add(BatchNormalization())\n",
    "    model.add(Dense(12, activation = activation, kernel_initializer=init_mode,kernel_constraint=max_norm(weight_constraint)))\n",
    "    model.add(Dropout(dropout_rate))\n",
    "    model.add(BatchNormalization())\n",
    "    model.add(Dense(8, activation = activation, kernel_initializer=init_mode,kernel_constraint=max_norm(weight_constraint)))\n",
    "    model.add(Dropout(dropout_rate))\n",
    "    model.add(BatchNormalization())\n",
    "    model.add(Dense(8, activation = activation, kernel_initializer=init_mode,kernel_constraint=max_norm(weight_constraint)))\n",
    "    model.add(Dropout(dropout_rate))\n",
    "    model.add(BatchNormalization())\n",
    "    model.add(Dense(8, activation = activation, kernel_initializer=init_mode,kernel_constraint=max_norm(weight_constraint)))\n",
    "    model.add(Dropout(dropout_rate))\n",
    "    model.add(BatchNormalization())\n",
    "    model.add(Dense(8, activation = activation, kernel_initializer=init_mode,kernel_constraint=max_norm(weight_constraint)))\n",
    "    model.add(Dropout(dropout_rate))\n",
    "    model.add(BatchNormalization())\n",
    "    model.add(Dense(6, activation = activation, kernel_initializer=init_mode,kernel_constraint=max_norm(weight_constraint)))\n",
    "    model.add(Dropout(dropout_rate))\n",
    "    model.add(BatchNormalization())\n",
    "    model.add(Dense(1))\n",
    "    model.compile(loss = \"mean_squared_error\", optimizer = SGD(learning_rate=learn_rate, momentum=momentum), metrics=['mean_squared_error'])\n",
    "    return model"
   ]
  },
  {
   "cell_type": "code",
   "execution_count": 4,
   "id": "brazilian-light",
   "metadata": {
    "execution": {
     "iopub.execute_input": "2021-04-20T17:30:32.523089Z",
     "iopub.status.busy": "2021-04-20T17:30:32.522122Z",
     "iopub.status.idle": "2021-04-20T17:30:32.527077Z",
     "shell.execute_reply": "2021-04-20T17:30:32.527750Z"
    },
    "papermill": {
     "duration": 0.032664,
     "end_time": "2021-04-20T17:30:32.527968",
     "exception": false,
     "start_time": "2021-04-20T17:30:32.495304",
     "status": "completed"
    },
    "tags": []
   },
   "outputs": [],
   "source": [
    "X = data.iloc[:,0:6].values\n",
    "y = data.iloc[:,6].values\n",
    "X_train, X_test, y_train, y_test = train_test_split(X, y, test_size=0.15, random_state=22)"
   ]
  },
  {
   "cell_type": "code",
   "execution_count": 5,
   "id": "italic-accommodation",
   "metadata": {
    "execution": {
     "iopub.execute_input": "2021-04-20T17:30:32.560314Z",
     "iopub.status.busy": "2021-04-20T17:30:32.559371Z",
     "iopub.status.idle": "2021-04-20T17:30:32.564360Z",
     "shell.execute_reply": "2021-04-20T17:30:32.563753Z"
    },
    "papermill": {
     "duration": 0.024378,
     "end_time": "2021-04-20T17:30:32.564493",
     "exception": false,
     "start_time": "2021-04-20T17:30:32.540115",
     "status": "completed"
    },
    "tags": []
   },
   "outputs": [
    {
     "data": {
      "text/plain": [
       "\"batch_size = [10, 20, 40]\\nepochs = [100, 150, 200, 250]\\noptimizer = ['SGD', 'Adam', 'Nadam']\\ninit_mode = ['uniform', 'normal', 'zero']\\nactivation = ['relu', 'tanh', 'sigmoid', 'linear']\\ndropout_rate = [0.0, 0.2, 0.3]\\nlearn_rate = [0.0005, 0.001, 0.01]\\nmomentum = [0.0, 0.3, 0.4]\\nweight_constraint = [1, 2, 4]\\nneurons = [3, 5, 6, 12]\""
      ]
     },
     "execution_count": 5,
     "metadata": {},
     "output_type": "execute_result"
    }
   ],
   "source": [
    "\"\"\"batch_size = [10, 20, 40]\n",
    "epochs = [100, 150, 200, 250]\n",
    "optimizer = ['SGD', 'Adam', 'Nadam']\n",
    "init_mode = ['uniform', 'normal', 'zero']\n",
    "activation = ['relu', 'tanh', 'sigmoid', 'linear']\n",
    "dropout_rate = [0.0, 0.2, 0.3]\n",
    "learn_rate = [0.0005, 0.001, 0.01]\n",
    "momentum = [0.0, 0.3, 0.4]\n",
    "weight_constraint = [1, 2, 4]\n",
    "neurons = [3, 5, 6, 12]\"\"\""
   ]
  },
  {
   "cell_type": "code",
   "execution_count": 6,
   "id": "floral-knowing",
   "metadata": {
    "execution": {
     "iopub.execute_input": "2021-04-20T17:30:32.587942Z",
     "iopub.status.busy": "2021-04-20T17:30:32.587311Z",
     "iopub.status.idle": "2021-04-20T17:30:32.905099Z",
     "shell.execute_reply": "2021-04-20T17:30:32.904326Z"
    },
    "papermill": {
     "duration": 0.331687,
     "end_time": "2021-04-20T17:30:32.905274",
     "exception": false,
     "start_time": "2021-04-20T17:30:32.573587",
     "status": "completed"
    },
    "tags": []
   },
   "outputs": [],
   "source": [
    "combined_model = create_model_combined()\n",
    "es = EarlyStopping(monitor='mean_squared_error', mode='min', verbose=1, patience=3)"
   ]
  },
  {
   "cell_type": "code",
   "execution_count": 7,
   "id": "sublime-ghost",
   "metadata": {
    "execution": {
     "iopub.execute_input": "2021-04-20T17:30:32.938965Z",
     "iopub.status.busy": "2021-04-20T17:30:32.938284Z",
     "iopub.status.idle": "2021-04-20T17:30:41.555022Z",
     "shell.execute_reply": "2021-04-20T17:30:41.552473Z"
    },
    "papermill": {
     "duration": 8.63676,
     "end_time": "2021-04-20T17:30:41.555196",
     "exception": false,
     "start_time": "2021-04-20T17:30:32.918436",
     "status": "completed"
    },
    "tags": []
   },
   "outputs": [
    {
     "name": "stdout",
     "output_type": "stream",
     "text": [
      "Epoch 00027: early stopping\n"
     ]
    }
   ],
   "source": [
    "history = combined_model.fit(X_train, y_train, validation_data=(X_test, y_test), epochs=4000, batch_size=31, verbose=0, callbacks=[es])"
   ]
  },
  {
   "cell_type": "code",
   "execution_count": 8,
   "id": "lonely-geography",
   "metadata": {
    "execution": {
     "iopub.execute_input": "2021-04-20T17:30:41.578129Z",
     "iopub.status.busy": "2021-04-20T17:30:41.577457Z",
     "iopub.status.idle": "2021-04-20T17:30:41.585847Z",
     "shell.execute_reply": "2021-04-20T17:30:41.585074Z"
    },
    "papermill": {
     "duration": 0.021091,
     "end_time": "2021-04-20T17:30:41.586051",
     "exception": false,
     "start_time": "2021-04-20T17:30:41.564960",
     "status": "completed"
    },
    "tags": []
   },
   "outputs": [
    {
     "name": "stdout",
     "output_type": "stream",
     "text": [
      "122.49403381347656 101.6007308959961\n"
     ]
    }
   ],
   "source": [
    "print(history.history['loss'][-1], history.history['val_loss'][-1])"
   ]
  },
  {
   "cell_type": "code",
   "execution_count": 9,
   "id": "recorded-labor",
   "metadata": {
    "execution": {
     "iopub.execute_input": "2021-04-20T17:30:41.624362Z",
     "iopub.status.busy": "2021-04-20T17:30:41.623505Z",
     "iopub.status.idle": "2021-04-20T17:30:47.594140Z",
     "shell.execute_reply": "2021-04-20T17:30:47.580185Z"
    },
    "papermill": {
     "duration": 5.99337,
     "end_time": "2021-04-20T17:30:47.594306",
     "exception": false,
     "start_time": "2021-04-20T17:30:41.600936",
     "status": "completed"
    },
    "tags": []
   },
   "outputs": [],
   "source": [
    "save_model(combined_model, \"Combined_model\")"
   ]
  }
 ],
 "metadata": {
  "kernelspec": {
   "display_name": "Python 3",
   "language": "python",
   "name": "python3"
  },
  "language_info": {
   "codemirror_mode": {
    "name": "ipython",
    "version": 3
   },
   "file_extension": ".py",
   "mimetype": "text/x-python",
   "name": "python",
   "nbconvert_exporter": "python",
   "pygments_lexer": "ipython3",
   "version": "3.7.9"
  },
  "papermill": {
   "default_parameters": {},
   "duration": 34.50041,
   "end_time": "2021-04-20T17:30:49.420498",
   "environment_variables": {},
   "exception": null,
   "input_path": "__notebook__.ipynb",
   "output_path": "__notebook__.ipynb",
   "parameters": {},
   "start_time": "2021-04-20T17:30:14.920088",
   "version": "2.3.2"
  }
 },
 "nbformat": 4,
 "nbformat_minor": 5
}
