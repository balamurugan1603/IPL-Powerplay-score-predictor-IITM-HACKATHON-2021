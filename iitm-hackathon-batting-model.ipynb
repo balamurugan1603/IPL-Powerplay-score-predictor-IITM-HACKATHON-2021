{
 "cells": [
  {
   "cell_type": "code",
   "execution_count": 1,
   "id": "induced-nirvana",
   "metadata": {
    "_cell_guid": "b1076dfc-b9ad-4769-8c92-a6c4dae69d19",
    "_uuid": "8f2839f25d086af736a60e9eeb907d3b93b6e0e5",
    "execution": {
     "iopub.execute_input": "2021-04-21T04:33:35.982611Z",
     "iopub.status.busy": "2021-04-21T04:33:35.981989Z",
     "iopub.status.idle": "2021-04-21T04:33:42.915027Z",
     "shell.execute_reply": "2021-04-21T04:33:42.914238Z"
    },
    "papermill": {
     "duration": 6.94647,
     "end_time": "2021-04-21T04:33:42.915190",
     "exception": false,
     "start_time": "2021-04-21T04:33:35.968720",
     "status": "completed"
    },
    "tags": []
   },
   "outputs": [],
   "source": [
    "import tensorflow as tf\n",
    "import pandas as pd\n",
    "from sklearn.model_selection import train_test_split\n",
    "from tensorflow.keras.callbacks import EarlyStopping\n",
    "from tensorflow.keras.layers import Dense, Dropout, BatchNormalization\n",
    "from tensorflow.keras.models import Sequential, save_model\n",
    "from tensorflow.keras.constraints import max_norm, min_max_norm\n",
    "from tensorflow.keras.optimizers import SGD, Adam, Nadam"
   ]
  },
  {
   "cell_type": "code",
   "execution_count": 2,
   "id": "middle-subject",
   "metadata": {
    "execution": {
     "iopub.execute_input": "2021-04-21T04:33:42.936075Z",
     "iopub.status.busy": "2021-04-21T04:33:42.935355Z",
     "iopub.status.idle": "2021-04-21T04:33:42.992497Z",
     "shell.execute_reply": "2021-04-21T04:33:42.991816Z"
    },
    "papermill": {
     "duration": 0.070778,
     "end_time": "2021-04-21T04:33:42.992636",
     "exception": false,
     "start_time": "2021-04-21T04:33:42.921858",
     "status": "completed"
    },
    "tags": []
   },
   "outputs": [],
   "source": [
    "data = pd.read_csv(\"../input/preprocess-completed/preprocess_completed.csv\")\n",
    "X = data.loc[:, [\"venue\", \"innings\", \"batting_team\",\"n_wickets\"]]\n",
    "y = data.iloc[:, 6]\n",
    "X_train, X_test, y_train, y_test = train_test_split(X, y, test_size=0.15, random_state=22)"
   ]
  },
  {
   "cell_type": "code",
   "execution_count": 3,
   "id": "solved-symphony",
   "metadata": {
    "execution": {
     "iopub.execute_input": "2021-04-21T04:33:43.018693Z",
     "iopub.status.busy": "2021-04-21T04:33:43.014065Z",
     "iopub.status.idle": "2021-04-21T04:33:43.022298Z",
     "shell.execute_reply": "2021-04-21T04:33:43.021607Z"
    },
    "papermill": {
     "duration": 0.023459,
     "end_time": "2021-04-21T04:33:43.022443",
     "exception": false,
     "start_time": "2021-04-21T04:33:42.998984",
     "status": "completed"
    },
    "tags": []
   },
   "outputs": [],
   "source": [
    "def create_model_batting(dropout_rate=0.22, activation=\"tanh\", init_mode='uniform', weight_constraint=3.4, learn_rate=0.000068, momentum=0.28):\n",
    "    model = Sequential()\n",
    "    model.add(Dense(12, activation = activation, input_dim = 4, kernel_initializer=init_mode, kernel_constraint=min_max_norm(0.15, weight_constraint)))\n",
    "    model.add(Dropout(dropout_rate))\n",
    "    model.add(BatchNormalization())\n",
    "    model.add(Dense(10, activation = activation, kernel_initializer=init_mode,kernel_constraint=min_max_norm(0.15, weight_constraint)))\n",
    "    model.add(Dropout(dropout_rate))\n",
    "    model.add(BatchNormalization())\n",
    "    model.add(Dense(10, activation = activation, kernel_initializer=init_mode,kernel_constraint=min_max_norm(0.15, weight_constraint)))\n",
    "    model.add(Dropout(dropout_rate))\n",
    "    model.add(BatchNormalization())\n",
    "    model.add(Dense(8, activation = activation, kernel_initializer=init_mode,kernel_constraint=min_max_norm(0.1, weight_constraint)))\n",
    "    model.add(Dropout(dropout_rate))\n",
    "    model.add(BatchNormalization())\n",
    "    model.add(Dense(6, activation = activation, kernel_initializer=init_mode,kernel_constraint=min_max_norm(0.1, weight_constraint)))\n",
    "    model.add(Dropout(dropout_rate))\n",
    "    model.add(BatchNormalization())\n",
    "    model.add(Dense(6, activation = activation, kernel_initializer=init_mode,kernel_constraint=min_max_norm(0.05, weight_constraint)))\n",
    "    model.add(Dropout(dropout_rate))\n",
    "    model.add(BatchNormalization())\n",
    "    model.add(Dense(1))\n",
    "    model.compile(loss = \"mean_squared_error\", optimizer = SGD(learning_rate=learn_rate, momentum=momentum), metrics=['mean_squared_error'])\n",
    "    return model"
   ]
  },
  {
   "cell_type": "code",
   "execution_count": 4,
   "id": "realistic-uzbekistan",
   "metadata": {
    "execution": {
     "iopub.execute_input": "2021-04-21T04:33:43.041065Z",
     "iopub.status.busy": "2021-04-21T04:33:43.040176Z",
     "iopub.status.idle": "2021-04-21T04:33:43.282927Z",
     "shell.execute_reply": "2021-04-21T04:33:43.282367Z"
    },
    "papermill": {
     "duration": 0.254143,
     "end_time": "2021-04-21T04:33:43.283079",
     "exception": false,
     "start_time": "2021-04-21T04:33:43.028936",
     "status": "completed"
    },
    "tags": []
   },
   "outputs": [],
   "source": [
    "batting_model = create_model_batting()\n",
    "es = EarlyStopping(monitor='mean_squared_error', mode='min', verbose=1, patience=3)"
   ]
  },
  {
   "cell_type": "code",
   "execution_count": 5,
   "id": "bottom-assumption",
   "metadata": {
    "execution": {
     "iopub.execute_input": "2021-04-21T04:33:43.303240Z",
     "iopub.status.busy": "2021-04-21T04:33:43.302492Z",
     "iopub.status.idle": "2021-04-21T04:33:48.537114Z",
     "shell.execute_reply": "2021-04-21T04:33:48.537581Z"
    },
    "papermill": {
     "duration": 5.247551,
     "end_time": "2021-04-21T04:33:48.537790",
     "exception": false,
     "start_time": "2021-04-21T04:33:43.290239",
     "status": "completed"
    },
    "tags": []
   },
   "outputs": [
    {
     "name": "stdout",
     "output_type": "stream",
     "text": [
      "Epoch 00017: early stopping\n"
     ]
    }
   ],
   "source": [
    "history = batting_model.fit(X_train, y_train, validation_data=(X_test, y_test), epochs=4000, batch_size=18, verbose=0, callbacks=[es])"
   ]
  },
  {
   "cell_type": "code",
   "execution_count": 6,
   "id": "republican-franchise",
   "metadata": {
    "execution": {
     "iopub.execute_input": "2021-04-21T04:33:48.558748Z",
     "iopub.status.busy": "2021-04-21T04:33:48.557833Z",
     "iopub.status.idle": "2021-04-21T04:33:48.561635Z",
     "shell.execute_reply": "2021-04-21T04:33:48.561015Z"
    },
    "papermill": {
     "duration": 0.016101,
     "end_time": "2021-04-21T04:33:48.561798",
     "exception": false,
     "start_time": "2021-04-21T04:33:48.545697",
     "status": "completed"
    },
    "tags": []
   },
   "outputs": [
    {
     "name": "stdout",
     "output_type": "stream",
     "text": [
      "132.983154296875 111.06031799316406\n"
     ]
    }
   ],
   "source": [
    "print(history.history['loss'][-1], history.history['val_loss'][-1])"
   ]
  },
  {
   "cell_type": "code",
   "execution_count": 7,
   "id": "broken-dairy",
   "metadata": {
    "execution": {
     "iopub.execute_input": "2021-04-21T04:33:48.579886Z",
     "iopub.status.busy": "2021-04-21T04:33:48.579204Z",
     "iopub.status.idle": "2021-04-21T04:33:52.334427Z",
     "shell.execute_reply": "2021-04-21T04:33:52.332598Z"
    },
    "papermill": {
     "duration": 3.765456,
     "end_time": "2021-04-21T04:33:52.334597",
     "exception": false,
     "start_time": "2021-04-21T04:33:48.569141",
     "status": "completed"
    },
    "tags": []
   },
   "outputs": [],
   "source": [
    "save_model(batting_model, \"batting_model\")"
   ]
  }
 ],
 "metadata": {
  "kernelspec": {
   "display_name": "Python 3",
   "language": "python",
   "name": "python3"
  },
  "language_info": {
   "codemirror_mode": {
    "name": "ipython",
    "version": 3
   },
   "file_extension": ".py",
   "mimetype": "text/x-python",
   "name": "python",
   "nbconvert_exporter": "python",
   "pygments_lexer": "ipython3",
   "version": "3.7.9"
  },
  "papermill": {
   "default_parameters": {},
   "duration": 24.847654,
   "end_time": "2021-04-21T04:33:54.525636",
   "environment_variables": {},
   "exception": null,
   "input_path": "__notebook__.ipynb",
   "output_path": "__notebook__.ipynb",
   "parameters": {},
   "start_time": "2021-04-21T04:33:29.677982",
   "version": "2.3.2"
  }
 },
 "nbformat": 4,
 "nbformat_minor": 5
}
