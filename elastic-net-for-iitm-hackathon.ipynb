{
 "cells": [
  {
   "cell_type": "code",
   "execution_count": 1,
   "id": "fatty-summit",
   "metadata": {
    "_cell_guid": "b1076dfc-b9ad-4769-8c92-a6c4dae69d19",
    "_uuid": "8f2839f25d086af736a60e9eeb907d3b93b6e0e5",
    "execution": {
     "iopub.execute_input": "2021-04-22T12:01:44.894613Z",
     "iopub.status.busy": "2021-04-22T12:01:44.893425Z",
     "iopub.status.idle": "2021-04-22T12:01:46.120963Z",
     "shell.execute_reply": "2021-04-22T12:01:46.121534Z"
    },
    "papermill": {
     "duration": 1.237779,
     "end_time": "2021-04-22T12:01:46.121845",
     "exception": false,
     "start_time": "2021-04-22T12:01:44.884066",
     "status": "completed"
    },
    "tags": []
   },
   "outputs": [],
   "source": [
    "import pandas as pd\n",
    "from sklearn.linear_model import ElasticNet\n",
    "from sklearn.metrics import mean_squared_error, make_scorer\n",
    "from sklearn.model_selection import GridSearchCV, cross_val_score\n",
    "import numpy as np\n",
    "from sklearn.model_selection import train_test_split\n",
    "import pickle"
   ]
  },
  {
   "cell_type": "code",
   "execution_count": 2,
   "id": "timely-fellow",
   "metadata": {
    "execution": {
     "iopub.execute_input": "2021-04-22T12:01:46.134511Z",
     "iopub.status.busy": "2021-04-22T12:01:46.133795Z",
     "iopub.status.idle": "2021-04-22T12:01:46.172634Z",
     "shell.execute_reply": "2021-04-22T12:01:46.173282Z"
    },
    "papermill": {
     "duration": 0.046778,
     "end_time": "2021-04-22T12:01:46.173461",
     "exception": false,
     "start_time": "2021-04-22T12:01:46.126683",
     "status": "completed"
    },
    "tags": []
   },
   "outputs": [],
   "source": [
    "data = pd.read_csv(\"../input/preprocess-completed/preprocess_completed.csv\")\n",
    "X = data.loc[:, [\"venue\", \"innings\", \"batting_team\", \"bowling_team\", \"n_wickets\", \"n_bowlers\"]]\n",
    "y = data.iloc[:, 6]\n",
    "parametersGrid = {\n",
    "    \"max_iter\": [1, 5, 10],\n",
    "    \"alpha\": [0.0001, 0.001, 0.01, 0.1, 1, 10, 100],\n",
    "    \"l1_ratio\": np.arange(0.0, 1.0, 0.1)\n",
    "}"
   ]
  },
  {
   "cell_type": "code",
   "execution_count": 3,
   "id": "particular-breeding",
   "metadata": {
    "execution": {
     "iopub.execute_input": "2021-04-22T12:01:46.191701Z",
     "iopub.status.busy": "2021-04-22T12:01:46.189603Z",
     "iopub.status.idle": "2021-04-22T12:01:46.228471Z",
     "shell.execute_reply": "2021-04-22T12:01:46.228925Z"
    },
    "papermill": {
     "duration": 0.051235,
     "end_time": "2021-04-22T12:01:46.229096",
     "exception": false,
     "start_time": "2021-04-22T12:01:46.177861",
     "status": "completed"
    },
    "tags": []
   },
   "outputs": [
    {
     "name": "stdout",
     "output_type": "stream",
     "text": [
      "-98.58820883049621\n"
     ]
    }
   ],
   "source": [
    "elasticNet = ElasticNet(max_iter=15, alpha=0.001, l1_ratio = 1)\n",
    "cv_results = cross_val_score(elasticNet, X, y, cv=5, scoring = \"neg_mean_squared_error\")\n",
    "print(np.mean(cv_results))"
   ]
  },
  {
   "cell_type": "code",
   "execution_count": 4,
   "id": "narrow-shock",
   "metadata": {
    "execution": {
     "iopub.execute_input": "2021-04-22T12:01:46.242552Z",
     "iopub.status.busy": "2021-04-22T12:01:46.241567Z",
     "iopub.status.idle": "2021-04-22T12:01:46.249409Z",
     "shell.execute_reply": "2021-04-22T12:01:46.249952Z"
    },
    "papermill": {
     "duration": 0.015981,
     "end_time": "2021-04-22T12:01:46.250130",
     "exception": false,
     "start_time": "2021-04-22T12:01:46.234149",
     "status": "completed"
    },
    "tags": []
   },
   "outputs": [],
   "source": [
    "elasticNet.fit(X, y)\n",
    "pickle.dump(elasticNet, open(\"elasticNetModel\", 'wb'))"
   ]
  }
 ],
 "metadata": {
  "kernelspec": {
   "display_name": "Python 3",
   "language": "python",
   "name": "python3"
  },
  "language_info": {
   "codemirror_mode": {
    "name": "ipython",
    "version": 3
   },
   "file_extension": ".py",
   "mimetype": "text/x-python",
   "name": "python",
   "nbconvert_exporter": "python",
   "pygments_lexer": "ipython3",
   "version": "3.7.10"
  },
  "papermill": {
   "default_parameters": {},
   "duration": 11.979029,
   "end_time": "2021-04-22T12:01:47.931585",
   "environment_variables": {},
   "exception": null,
   "input_path": "__notebook__.ipynb",
   "output_path": "__notebook__.ipynb",
   "parameters": {},
   "start_time": "2021-04-22T12:01:35.952556",
   "version": "2.3.3"
  }
 },
 "nbformat": 4,
 "nbformat_minor": 5
}
